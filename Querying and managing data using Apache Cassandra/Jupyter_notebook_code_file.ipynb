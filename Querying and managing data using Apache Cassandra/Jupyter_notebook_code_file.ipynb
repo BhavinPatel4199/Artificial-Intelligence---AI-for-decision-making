{
 "cells": [
  {
   "cell_type": "markdown",
   "metadata": {},
   "source": [
    "## Model Data using Cassandra\n",
    "\n",
    "### The aim of the project is to solve the three queries given below."
   ]
  },
  {
   "cell_type": "markdown",
   "metadata": {},
   "source": [
    "### Introduction\n",
    "\n",
    "There is a music streaming app called SoundCloud, that has been using their music streaming app and collecting data on songs and user activity and their aim is to analyze this data especially understanding what songs users are listening to. Currently, they are not making use of a NoSQL db and they have the data stored as a CSV file, thus its difficult for them to query the data. So our task is to create a NoSQL database for helping them with the analysis."
   ]
  },
  {
   "cell_type": "markdown",
   "metadata": {},
   "source": [
    "#### Import Packages "
   ]
  },
  {
   "cell_type": "code",
   "execution_count": 1,
   "metadata": {
    "tags": []
   },
   "outputs": [],
   "source": [
    "import pandas as pd\n",
    "import numpy as np\n",
    "import cassandra\n",
    "import csv"
   ]
  },
  {
   "cell_type": "code",
   "execution_count": 2,
   "metadata": {
    "tags": []
   },
   "outputs": [
    {
     "name": "stdout",
     "output_type": "stream",
     "text": [
      "Number of rows in the  CSV file: 6821\n"
     ]
    }
   ],
   "source": [
    "# Check the number of rows in the new CSV file\n",
    "with open('event_data.csv', 'r', encoding='utf8') as f:\n",
    "    print(\"Number of rows in the  CSV file:\", sum(1 for line in f))"
   ]
  },
  {
   "cell_type": "markdown",
   "metadata": {
    "tags": []
   },
   "source": [
    "\n",
    "##  The image below is a screenshot of what the data appears like in the event_data.csv\n",
    "\n",
    "<img src=\"event_data_image.jpg\">"
   ]
  },
  {
   "cell_type": "markdown",
   "metadata": {},
   "source": [
    "#### Creating a Cluster"
   ]
  },
  {
   "cell_type": "code",
   "execution_count": 3,
   "metadata": {
    "tags": []
   },
   "outputs": [
    {
     "name": "stdout",
     "output_type": "stream",
     "text": [
      "Cluster: <cassandra.cluster.Cluster object at 0x12759fb90>\n",
      "Session: <cassandra.cluster.Session object at 0x141063690>\n",
      "Host ID: 127.0.0.1 \n",
      "Connection Status: True\n"
     ]
    }
   ],
   "source": [
    "# Task: Make a connection to the cassandra instance on your local machine(127.0.0.1) and \n",
    "# create a session to establish connection and begin executing queries\n",
    "\n",
    "from cassandra.cluster import Cluster\n",
    "\n",
    "try:\n",
    "    # Connect to the Cassandra cluster\n",
    "    cluster = Cluster(['127.0.0.1'])\n",
    "    session = cluster.connect()\n",
    "\n",
    "    # Print cluster and session information\n",
    "    print(\"Cluster:\", cluster)\n",
    "    print(\"Session:\", session)\n",
    "\n",
    "    # Get and print information about connected nodes\n",
    "    for host in cluster.metadata.all_hosts():\n",
    "        print(\"Host ID:\", host.address, \"\\nConnection Status:\", host.is_up)\n",
    "\n",
    "except Exception as e:\n",
    "    print(e)"
   ]
  },
  {
   "cell_type": "markdown",
   "metadata": {},
   "source": [
    "#### Create & Set Keyspace"
   ]
  },
  {
   "cell_type": "code",
   "execution_count": 4,
   "metadata": {
    "tags": []
   },
   "outputs": [
    {
     "name": "stdout",
     "output_type": "stream",
     "text": [
      "Keyspace 'soundcloud' created successfully and set as the current keyspace.\n",
      "Current keyspace: soundcloud\n"
     ]
    }
   ],
   "source": [
    "# Task: Create a Keyspace and Set KEYSPACE to the keyspace specified above\n",
    "\n",
    "try:\n",
    "    # Create keyspace if not exists and set keyspace\n",
    "    session.execute(\"\"\"\n",
    "    CREATE KEYSPACE IF NOT EXISTS soundcloud\n",
    "    WITH REPLICATION = \n",
    "    { 'class' : 'SimpleStrategy', 'replication_factor' : 1 }\n",
    "    \"\"\")\n",
    "\n",
    "    session.set_keyspace('soundcloud')\n",
    "\n",
    "    print(\"Keyspace 'soundcloud' created successfully and set as the current keyspace.\")\n",
    "    #print(\"Current keyspace:\", session.execute(\"SELECT * FROM system.local\")[0])\n",
    "    current_keyspace = session.keyspace\n",
    "\n",
    "    # Print the current keyspace\n",
    "    print(\"Current keyspace:\", current_keyspace)\n",
    "\n",
    "except Exception as e:\n",
    "    print(\"An error occurred:\", e)\n",
    "    "
   ]
  },
  {
   "cell_type": "markdown",
   "metadata": {},
   "source": [
    "# "
   ]
  },
  {
   "cell_type": "markdown",
   "metadata": {},
   "source": [
    "## List of Queries \n",
    "\n",
    "### 1. Find the artist_name, song_title and length of song the SoundCloud app history that was heard during  session_number = 338, and item_in_session_number  = 4\n",
    "\n",
    "\n",
    "### 2. Find the artist_name, song_title (sorted by item_in_session_number) and name(fname and lname) of the user for user_id = 10, session_number = 182\n",
    "    \n",
    "\n",
    "### 3. Find every name(fname and lname) of the user from the SoundCloud app history that listened to the song_title 'All Hands Against His Own'\n",
    "\n",
    "\n"
   ]
  },
  {
   "cell_type": "markdown",
   "metadata": {},
   "source": [
    "# "
   ]
  },
  {
   "cell_type": "markdown",
   "metadata": {},
   "source": [
    "### Query1 Table1: How should we model this data? Think about what should be our Primary Key/Partition Key/Clustering Key"
   ]
  },
  {
   "cell_type": "code",
   "execution_count": 5,
   "metadata": {
    "tags": []
   },
   "outputs": [
    {
     "name": "stdout",
     "output_type": "stream",
     "text": [
      "Table 'song_info_by_session' created successfully.\n",
      "\n",
      "Schema of 'song_info_by_session' table: \n",
      "\n"
     ]
    },
    {
     "data": {
      "text/html": [
       "<div>\n",
       "<style scoped>\n",
       "    .dataframe tbody tr th:only-of-type {\n",
       "        vertical-align: middle;\n",
       "    }\n",
       "\n",
       "    .dataframe tbody tr th {\n",
       "        vertical-align: top;\n",
       "    }\n",
       "\n",
       "    .dataframe thead th {\n",
       "        text-align: right;\n",
       "    }\n",
       "</style>\n",
       "<table border=\"1\" class=\"dataframe\">\n",
       "  <thead>\n",
       "    <tr style=\"text-align: right;\">\n",
       "      <th></th>\n",
       "      <th>keyspace_name</th>\n",
       "      <th>table_name</th>\n",
       "      <th>column_name</th>\n",
       "      <th>clustering_order</th>\n",
       "      <th>column_name_bytes</th>\n",
       "      <th>kind</th>\n",
       "      <th>position</th>\n",
       "      <th>type</th>\n",
       "    </tr>\n",
       "  </thead>\n",
       "  <tbody>\n",
       "    <tr>\n",
       "      <th>0</th>\n",
       "      <td>soundcloud</td>\n",
       "      <td>song_info_by_session</td>\n",
       "      <td>artist_name</td>\n",
       "      <td>none</td>\n",
       "      <td>b'artist_name'</td>\n",
       "      <td>regular</td>\n",
       "      <td>-1</td>\n",
       "      <td>text</td>\n",
       "    </tr>\n",
       "    <tr>\n",
       "      <th>1</th>\n",
       "      <td>soundcloud</td>\n",
       "      <td>song_info_by_session</td>\n",
       "      <td>item_in_session</td>\n",
       "      <td>asc</td>\n",
       "      <td>b'item_in_session'</td>\n",
       "      <td>clustering</td>\n",
       "      <td>0</td>\n",
       "      <td>int</td>\n",
       "    </tr>\n",
       "    <tr>\n",
       "      <th>2</th>\n",
       "      <td>soundcloud</td>\n",
       "      <td>song_info_by_session</td>\n",
       "      <td>length</td>\n",
       "      <td>none</td>\n",
       "      <td>b'length'</td>\n",
       "      <td>regular</td>\n",
       "      <td>-1</td>\n",
       "      <td>float</td>\n",
       "    </tr>\n",
       "    <tr>\n",
       "      <th>3</th>\n",
       "      <td>soundcloud</td>\n",
       "      <td>song_info_by_session</td>\n",
       "      <td>session_number</td>\n",
       "      <td>none</td>\n",
       "      <td>b'session_number'</td>\n",
       "      <td>partition_key</td>\n",
       "      <td>0</td>\n",
       "      <td>int</td>\n",
       "    </tr>\n",
       "    <tr>\n",
       "      <th>4</th>\n",
       "      <td>soundcloud</td>\n",
       "      <td>song_info_by_session</td>\n",
       "      <td>song_title</td>\n",
       "      <td>none</td>\n",
       "      <td>b'song_title'</td>\n",
       "      <td>regular</td>\n",
       "      <td>-1</td>\n",
       "      <td>text</td>\n",
       "    </tr>\n",
       "  </tbody>\n",
       "</table>\n",
       "</div>"
      ],
      "text/plain": [
       "  keyspace_name            table_name      column_name clustering_order  \\\n",
       "0    soundcloud  song_info_by_session      artist_name             none   \n",
       "1    soundcloud  song_info_by_session  item_in_session              asc   \n",
       "2    soundcloud  song_info_by_session           length             none   \n",
       "3    soundcloud  song_info_by_session   session_number             none   \n",
       "4    soundcloud  song_info_by_session       song_title             none   \n",
       "\n",
       "    column_name_bytes           kind  position   type  \n",
       "0      b'artist_name'        regular        -1   text  \n",
       "1  b'item_in_session'     clustering         0    int  \n",
       "2           b'length'        regular        -1  float  \n",
       "3   b'session_number'  partition_key         0    int  \n",
       "4       b'song_title'        regular        -1   text  "
      ]
     },
     "execution_count": 5,
     "metadata": {},
     "output_type": "execute_result"
    }
   ],
   "source": [
    "## Task: Query 1: Find the artist_name, song_title and length of song the SoundCloud app history \n",
    "## that was heard during session_number = 338, and item_in_session_number = 4\n",
    "## make use of create table command   \n",
    "table_1 = 'song_info_by_session'\n",
    "try:\n",
    "    # Create the query\n",
    "    query_1 = (f\"\"\"CREATE TABLE IF NOT EXISTS {table_1} (\n",
    "        session_number int,\n",
    "        item_in_session int,\n",
    "        artist_name text,\n",
    "        song_title text,\n",
    "        length float,\n",
    "        PRIMARY KEY (session_number, item_in_session))\"\"\")\n",
    "    \n",
    "    # Execute the query\n",
    "    session.execute(query_1)\n",
    "\n",
    "    # If the query runs successfully, print the status\n",
    "    print(\"Table 'song_info_by_session' created successfully.\")\n",
    "    print(\"\\nSchema of 'song_info_by_session' table:\", '\\n')\n",
    "    #print(\"-\"*146)\n",
    "    result = session.execute(\"SELECT * FROM system_schema.columns WHERE keyspace_name = 'soundcloud' AND table_name = 'song_info_by_session'\")\n",
    "    \n",
    "    song_info_by_session_df = pd.DataFrame(result)\n",
    "    #print(song_info_by_session_df.to_markdown())\n",
    "    #print(\"-\"*146)\n",
    "        \n",
    "except Exception as e:\n",
    "    print(\"An error occurred:\", e)\n",
    "    \n",
    "song_info_by_session_df"
   ]
  },
  {
   "cell_type": "markdown",
   "metadata": {},
   "source": [
    "### Let's insert our data into of table"
   ]
  },
  {
   "cell_type": "code",
   "execution_count": 6,
   "metadata": {
    "tags": []
   },
   "outputs": [
    {
     "name": "stdout",
     "output_type": "stream",
     "text": [
      "Data insertion in song_info_by_session table completed successfully. \n",
      "\n",
      "Table song_info_by_session after inserting the data\n"
     ]
    },
    {
     "data": {
      "text/html": [
       "<div>\n",
       "<style scoped>\n",
       "    .dataframe tbody tr th:only-of-type {\n",
       "        vertical-align: middle;\n",
       "    }\n",
       "\n",
       "    .dataframe tbody tr th {\n",
       "        vertical-align: top;\n",
       "    }\n",
       "\n",
       "    .dataframe thead th {\n",
       "        text-align: right;\n",
       "    }\n",
       "</style>\n",
       "<table border=\"1\" class=\"dataframe\">\n",
       "  <thead>\n",
       "    <tr style=\"text-align: right;\">\n",
       "      <th></th>\n",
       "      <th>session_number</th>\n",
       "      <th>item_in_session</th>\n",
       "      <th>artist_name</th>\n",
       "      <th>length</th>\n",
       "      <th>song_title</th>\n",
       "    </tr>\n",
       "  </thead>\n",
       "  <tbody>\n",
       "    <tr>\n",
       "      <th>0</th>\n",
       "      <td>23</td>\n",
       "      <td>0</td>\n",
       "      <td>Regina Spektor</td>\n",
       "      <td>191.085266</td>\n",
       "      <td>The Calculation (Album Version)</td>\n",
       "    </tr>\n",
       "    <tr>\n",
       "      <th>1</th>\n",
       "      <td>23</td>\n",
       "      <td>1</td>\n",
       "      <td>Octopus Project</td>\n",
       "      <td>250.957916</td>\n",
       "      <td>All Of The Champs That Ever Lived</td>\n",
       "    </tr>\n",
       "    <tr>\n",
       "      <th>2</th>\n",
       "      <td>23</td>\n",
       "      <td>2</td>\n",
       "      <td>Tegan And Sara</td>\n",
       "      <td>180.061584</td>\n",
       "      <td>So Jealous</td>\n",
       "    </tr>\n",
       "    <tr>\n",
       "      <th>3</th>\n",
       "      <td>23</td>\n",
       "      <td>3</td>\n",
       "      <td>Dragonette</td>\n",
       "      <td>153.390564</td>\n",
       "      <td>Okay Dolores</td>\n",
       "    </tr>\n",
       "    <tr>\n",
       "      <th>4</th>\n",
       "      <td>23</td>\n",
       "      <td>4</td>\n",
       "      <td>Lil Wayne / Eminem</td>\n",
       "      <td>229.589752</td>\n",
       "      <td>Drop The World</td>\n",
       "    </tr>\n",
       "    <tr>\n",
       "      <th>...</th>\n",
       "      <td>...</td>\n",
       "      <td>...</td>\n",
       "      <td>...</td>\n",
       "      <td>...</td>\n",
       "      <td>...</td>\n",
       "    </tr>\n",
       "    <tr>\n",
       "      <th>6815</th>\n",
       "      <td>986</td>\n",
       "      <td>1</td>\n",
       "      <td>Jack Johnson</td>\n",
       "      <td>240.064850</td>\n",
       "      <td>Taylor</td>\n",
       "    </tr>\n",
       "    <tr>\n",
       "      <th>6816</th>\n",
       "      <td>986</td>\n",
       "      <td>2</td>\n",
       "      <td>Iron And Wine</td>\n",
       "      <td>153.050980</td>\n",
       "      <td>Naked As We Can</td>\n",
       "    </tr>\n",
       "    <tr>\n",
       "      <th>6817</th>\n",
       "      <td>986</td>\n",
       "      <td>3</td>\n",
       "      <td>The xx</td>\n",
       "      <td>158.249344</td>\n",
       "      <td>Fantasy</td>\n",
       "    </tr>\n",
       "    <tr>\n",
       "      <th>6818</th>\n",
       "      <td>986</td>\n",
       "      <td>4</td>\n",
       "      <td>The Antlers</td>\n",
       "      <td>328.881195</td>\n",
       "      <td>Epilogue</td>\n",
       "    </tr>\n",
       "    <tr>\n",
       "      <th>6819</th>\n",
       "      <td>986</td>\n",
       "      <td>5</td>\n",
       "      <td>Fattburger</td>\n",
       "      <td>217.207703</td>\n",
       "      <td>Groovin'</td>\n",
       "    </tr>\n",
       "  </tbody>\n",
       "</table>\n",
       "<p>6820 rows × 5 columns</p>\n",
       "</div>"
      ],
      "text/plain": [
       "      session_number  item_in_session         artist_name      length  \\\n",
       "0                 23                0      Regina Spektor  191.085266   \n",
       "1                 23                1     Octopus Project  250.957916   \n",
       "2                 23                2      Tegan And Sara  180.061584   \n",
       "3                 23                3          Dragonette  153.390564   \n",
       "4                 23                4  Lil Wayne / Eminem  229.589752   \n",
       "...              ...              ...                 ...         ...   \n",
       "6815             986                1        Jack Johnson  240.064850   \n",
       "6816             986                2       Iron And Wine  153.050980   \n",
       "6817             986                3              The xx  158.249344   \n",
       "6818             986                4         The Antlers  328.881195   \n",
       "6819             986                5          Fattburger  217.207703   \n",
       "\n",
       "                             song_title  \n",
       "0       The Calculation (Album Version)  \n",
       "1     All Of The Champs That Ever Lived  \n",
       "2                            So Jealous  \n",
       "3                          Okay Dolores  \n",
       "4                        Drop The World  \n",
       "...                                 ...  \n",
       "6815                             Taylor  \n",
       "6816                    Naked As We Can  \n",
       "6817                            Fantasy  \n",
       "6818                           Epilogue  \n",
       "6819                           Groovin'  \n",
       "\n",
       "[6820 rows x 5 columns]"
      ]
     },
     "execution_count": 6,
     "metadata": {},
     "output_type": "execute_result"
    }
   ],
   "source": [
    "# We have provided part of the code to set up the CSV file. Please complete the Apache Cassandra code below#\n",
    "# I have change the code a littel bit for understanding and to analysiing the output of the code, also to check weather code runs successfully or not.\n",
    "\n",
    "file_name = 'event_data.csv'\n",
    "\n",
    "try:\n",
    "    with open(file_name, encoding='utf8') as f:\n",
    "        csv_reader = csv.reader(f)\n",
    "        next(csv_reader)  # Skip the header in the CSV file\n",
    "        for row in csv_reader:\n",
    "            ## Task: Write the INSERT statements and assign it to the query variable\n",
    "            query1 = \"INSERT INTO song_info_by_session (session_number, item_in_session, artist_name, song_title, length) \"\n",
    "            query1 += \"VALUES (%s, %s, %s, %s, %s)\"\n",
    "            \n",
    "            \n",
    "            # Task: Match the column in the csv file to the column in the INSERT statement.\n",
    "            ## e.g., if you want to INSERT gender from csv file into the database you will use row[2]\n",
    "            ## e.g., if you want to INSERT location from csv file into database you will use row[7]\n",
    "            \n",
    "            session.execute(query1, (int(row[8]), int(row[3]), row[0], row[9], float(row[5])))\n",
    "    \n",
    "    print(f\"Data insertion in {table_1} table completed successfully.\", '\\n')\n",
    "\n",
    "except Exception as e:\n",
    "    print(\"An error occurred:\", e)\n",
    "\n",
    "# Print the output of the query\n",
    "print(f\"Table {table_1} after inserting the data\")\n",
    "rows = session.execute(\"SELECT * FROM song_info_by_session\")\n",
    "rows_dataframe = pd.DataFrame(rows)\n",
    "rows_dataframe"
   ]
  },
  {
   "cell_type": "markdown",
   "metadata": {},
   "source": [
    "### Validate our Data Model using a SELECT"
   ]
  },
  {
   "cell_type": "code",
   "execution_count": 7,
   "metadata": {
    "scrolled": true,
    "tags": []
   },
   "outputs": [
    {
     "name": "stdout",
     "output_type": "stream",
     "text": [
      "From table  : song_info_by_session\n"
     ]
    },
    {
     "data": {
      "text/html": [
       "<div>\n",
       "<style scoped>\n",
       "    .dataframe tbody tr th:only-of-type {\n",
       "        vertical-align: middle;\n",
       "    }\n",
       "\n",
       "    .dataframe tbody tr th {\n",
       "        vertical-align: top;\n",
       "    }\n",
       "\n",
       "    .dataframe thead th {\n",
       "        text-align: right;\n",
       "    }\n",
       "</style>\n",
       "<table border=\"1\" class=\"dataframe\">\n",
       "  <thead>\n",
       "    <tr style=\"text-align: right;\">\n",
       "      <th></th>\n",
       "      <th>artist_name</th>\n",
       "      <th>song_title</th>\n",
       "      <th>length</th>\n",
       "    </tr>\n",
       "  </thead>\n",
       "  <tbody>\n",
       "    <tr>\n",
       "      <th>0</th>\n",
       "      <td>Faithless</td>\n",
       "      <td>Music Matters (Mark Knight Dub)</td>\n",
       "      <td>495.307312</td>\n",
       "    </tr>\n",
       "  </tbody>\n",
       "</table>\n",
       "</div>"
      ],
      "text/plain": [
       "  artist_name                       song_title      length\n",
       "0   Faithless  Music Matters (Mark Knight Dub)  495.307312"
      ]
     },
     "execution_count": 7,
     "metadata": {},
     "output_type": "execute_result"
    }
   ],
   "source": [
    "## Task: Make use of the SELECT statement and for loop to check if your query works and display the results\n",
    "\n",
    "validate_query_1 = \"SELECT artist_name, song_title, length FROM song_info_by_session WHERE session_number = 338 AND item_in_session = 4\"\n",
    "try:\n",
    "    validate_row_1 = session.execute(validate_query_1)\n",
    "except Exception as e:\n",
    "    print(e)\n",
    "print(f\"From table  : {table_1}\")  \n",
    "validate_row_dataframe = pd.DataFrame(validate_row_1)\n",
    "\n",
    "validate_row_dataframe"
   ]
  },
  {
   "cell_type": "markdown",
   "metadata": {},
   "source": [
    "# "
   ]
  },
  {
   "cell_type": "markdown",
   "metadata": {},
   "source": [
    "# "
   ]
  },
  {
   "cell_type": "markdown",
   "metadata": {},
   "source": [
    "### Query2 Table2: How should we model this data? Think about what should be our Primary Key/Partition Key/Clustering Key "
   ]
  },
  {
   "cell_type": "code",
   "execution_count": 8,
   "metadata": {
    "tags": []
   },
   "outputs": [
    {
     "name": "stdout",
     "output_type": "stream",
     "text": [
      "Table 'user_info_by_session' created successfully.\n",
      "\n",
      "Schema of 'user_info_by_session' table: \n",
      "\n"
     ]
    },
    {
     "data": {
      "text/html": [
       "<div>\n",
       "<style scoped>\n",
       "    .dataframe tbody tr th:only-of-type {\n",
       "        vertical-align: middle;\n",
       "    }\n",
       "\n",
       "    .dataframe tbody tr th {\n",
       "        vertical-align: top;\n",
       "    }\n",
       "\n",
       "    .dataframe thead th {\n",
       "        text-align: right;\n",
       "    }\n",
       "</style>\n",
       "<table border=\"1\" class=\"dataframe\">\n",
       "  <thead>\n",
       "    <tr style=\"text-align: right;\">\n",
       "      <th></th>\n",
       "      <th>keyspace_name</th>\n",
       "      <th>table_name</th>\n",
       "      <th>column_name</th>\n",
       "      <th>clustering_order</th>\n",
       "      <th>column_name_bytes</th>\n",
       "      <th>kind</th>\n",
       "      <th>position</th>\n",
       "      <th>type</th>\n",
       "    </tr>\n",
       "  </thead>\n",
       "  <tbody>\n",
       "    <tr>\n",
       "      <th>0</th>\n",
       "      <td>soundcloud</td>\n",
       "      <td>user_info_by_session</td>\n",
       "      <td>artist_name</td>\n",
       "      <td>none</td>\n",
       "      <td>b'artist_name'</td>\n",
       "      <td>regular</td>\n",
       "      <td>-1</td>\n",
       "      <td>text</td>\n",
       "    </tr>\n",
       "    <tr>\n",
       "      <th>1</th>\n",
       "      <td>soundcloud</td>\n",
       "      <td>user_info_by_session</td>\n",
       "      <td>fname</td>\n",
       "      <td>none</td>\n",
       "      <td>b'fname'</td>\n",
       "      <td>regular</td>\n",
       "      <td>-1</td>\n",
       "      <td>text</td>\n",
       "    </tr>\n",
       "    <tr>\n",
       "      <th>2</th>\n",
       "      <td>soundcloud</td>\n",
       "      <td>user_info_by_session</td>\n",
       "      <td>item_in_session</td>\n",
       "      <td>asc</td>\n",
       "      <td>b'item_in_session'</td>\n",
       "      <td>clustering</td>\n",
       "      <td>0</td>\n",
       "      <td>int</td>\n",
       "    </tr>\n",
       "    <tr>\n",
       "      <th>3</th>\n",
       "      <td>soundcloud</td>\n",
       "      <td>user_info_by_session</td>\n",
       "      <td>lname</td>\n",
       "      <td>none</td>\n",
       "      <td>b'lname'</td>\n",
       "      <td>regular</td>\n",
       "      <td>-1</td>\n",
       "      <td>text</td>\n",
       "    </tr>\n",
       "    <tr>\n",
       "      <th>4</th>\n",
       "      <td>soundcloud</td>\n",
       "      <td>user_info_by_session</td>\n",
       "      <td>session_number</td>\n",
       "      <td>none</td>\n",
       "      <td>b'session_number'</td>\n",
       "      <td>partition_key</td>\n",
       "      <td>1</td>\n",
       "      <td>int</td>\n",
       "    </tr>\n",
       "    <tr>\n",
       "      <th>5</th>\n",
       "      <td>soundcloud</td>\n",
       "      <td>user_info_by_session</td>\n",
       "      <td>song_title</td>\n",
       "      <td>none</td>\n",
       "      <td>b'song_title'</td>\n",
       "      <td>regular</td>\n",
       "      <td>-1</td>\n",
       "      <td>text</td>\n",
       "    </tr>\n",
       "    <tr>\n",
       "      <th>6</th>\n",
       "      <td>soundcloud</td>\n",
       "      <td>user_info_by_session</td>\n",
       "      <td>user_id</td>\n",
       "      <td>none</td>\n",
       "      <td>b'user_id'</td>\n",
       "      <td>partition_key</td>\n",
       "      <td>0</td>\n",
       "      <td>int</td>\n",
       "    </tr>\n",
       "  </tbody>\n",
       "</table>\n",
       "</div>"
      ],
      "text/plain": [
       "  keyspace_name            table_name      column_name clustering_order  \\\n",
       "0    soundcloud  user_info_by_session      artist_name             none   \n",
       "1    soundcloud  user_info_by_session            fname             none   \n",
       "2    soundcloud  user_info_by_session  item_in_session              asc   \n",
       "3    soundcloud  user_info_by_session            lname             none   \n",
       "4    soundcloud  user_info_by_session   session_number             none   \n",
       "5    soundcloud  user_info_by_session       song_title             none   \n",
       "6    soundcloud  user_info_by_session          user_id             none   \n",
       "\n",
       "    column_name_bytes           kind  position  type  \n",
       "0      b'artist_name'        regular        -1  text  \n",
       "1            b'fname'        regular        -1  text  \n",
       "2  b'item_in_session'     clustering         0   int  \n",
       "3            b'lname'        regular        -1  text  \n",
       "4   b'session_number'  partition_key         1   int  \n",
       "5       b'song_title'        regular        -1  text  \n",
       "6          b'user_id'  partition_key         0   int  "
      ]
     },
     "execution_count": 8,
     "metadata": {},
     "output_type": "execute_result"
    }
   ],
   "source": [
    "## Task: Query 2: Find the artist_name, song_title (sorted by item_in_session_number) and \n",
    "## name(fname and lname) of the user for user_id = 10, session_number = 182 \n",
    "## make use of create table command  \n",
    "\n",
    "table_2 = 'user_info_by_session'\n",
    "try:\n",
    "    # Create the query\n",
    "    query_2 = (f\"\"\"CREATE TABLE IF NOT EXISTS {table_2} (\n",
    "        user_id int, \n",
    "        session_number int, \n",
    "        item_in_session int, \n",
    "        artist_name text, \n",
    "        song_title text,\n",
    "        fname text, \n",
    "        lname text,\n",
    "        PRIMARY KEY ((user_id, session_number), item_in_session))\"\"\")\n",
    "    \n",
    "    # Execute the query\n",
    "    session.execute(query_2)\n",
    "\n",
    "    # If the query runs successfully, print the status\n",
    "    print(\"Table 'user_info_by_session' created successfully.\")\n",
    "    print(\"\\nSchema of 'user_info_by_session' table:\", '\\n')\n",
    "    #print(\"-\"*146)\n",
    "    result_2 = session.execute(\"SELECT * FROM system_schema.columns WHERE keyspace_name = 'soundcloud' AND table_name = 'user_info_by_session'\")\n",
    "    \n",
    "    user_info_by_session_df = pd.DataFrame(result_2)\n",
    "    #print(song_info_by_session_df.to_markdown())\n",
    "    #print(\"-\"*146)\n",
    "        \n",
    "except Exception as e:\n",
    "    print(\"An error occurred:\", e)\n",
    "    \n",
    "user_info_by_session_df\n"
   ]
  },
  {
   "cell_type": "markdown",
   "metadata": {},
   "source": [
    "### Let's insert our data into of table"
   ]
  },
  {
   "cell_type": "code",
   "execution_count": 9,
   "metadata": {
    "tags": []
   },
   "outputs": [
    {
     "name": "stdout",
     "output_type": "stream",
     "text": [
      "Data insertion in user_info_by_session table completed successfully. \n",
      "\n",
      "Table user_info_by_session after inserting the data\n"
     ]
    },
    {
     "data": {
      "text/html": [
       "<div>\n",
       "<style scoped>\n",
       "    .dataframe tbody tr th:only-of-type {\n",
       "        vertical-align: middle;\n",
       "    }\n",
       "\n",
       "    .dataframe tbody tr th {\n",
       "        vertical-align: top;\n",
       "    }\n",
       "\n",
       "    .dataframe thead th {\n",
       "        text-align: right;\n",
       "    }\n",
       "</style>\n",
       "<table border=\"1\" class=\"dataframe\">\n",
       "  <thead>\n",
       "    <tr style=\"text-align: right;\">\n",
       "      <th></th>\n",
       "      <th>user_id</th>\n",
       "      <th>session_number</th>\n",
       "      <th>item_in_session</th>\n",
       "      <th>artist_name</th>\n",
       "      <th>fname</th>\n",
       "      <th>lname</th>\n",
       "      <th>song_title</th>\n",
       "    </tr>\n",
       "  </thead>\n",
       "  <tbody>\n",
       "    <tr>\n",
       "      <th>0</th>\n",
       "      <td>58</td>\n",
       "      <td>768</td>\n",
       "      <td>0</td>\n",
       "      <td>System of a Down</td>\n",
       "      <td>Emily</td>\n",
       "      <td>Benson</td>\n",
       "      <td>Sad Statue</td>\n",
       "    </tr>\n",
       "    <tr>\n",
       "      <th>1</th>\n",
       "      <td>58</td>\n",
       "      <td>768</td>\n",
       "      <td>1</td>\n",
       "      <td>Ghostland Observatory</td>\n",
       "      <td>Emily</td>\n",
       "      <td>Benson</td>\n",
       "      <td>Stranger Lover</td>\n",
       "    </tr>\n",
       "    <tr>\n",
       "      <th>2</th>\n",
       "      <td>58</td>\n",
       "      <td>768</td>\n",
       "      <td>2</td>\n",
       "      <td>Evergreen Terrace</td>\n",
       "      <td>Emily</td>\n",
       "      <td>Benson</td>\n",
       "      <td>Zero</td>\n",
       "    </tr>\n",
       "    <tr>\n",
       "      <th>3</th>\n",
       "      <td>85</td>\n",
       "      <td>776</td>\n",
       "      <td>2</td>\n",
       "      <td>Deftones</td>\n",
       "      <td>Kinsley</td>\n",
       "      <td>Young</td>\n",
       "      <td>Head Up (LP Version)</td>\n",
       "    </tr>\n",
       "    <tr>\n",
       "      <th>4</th>\n",
       "      <td>85</td>\n",
       "      <td>776</td>\n",
       "      <td>3</td>\n",
       "      <td>The Notorious B.I.G.</td>\n",
       "      <td>Kinsley</td>\n",
       "      <td>Young</td>\n",
       "      <td>Playa Hater (Amended Version)</td>\n",
       "    </tr>\n",
       "    <tr>\n",
       "      <th>...</th>\n",
       "      <td>...</td>\n",
       "      <td>...</td>\n",
       "      <td>...</td>\n",
       "      <td>...</td>\n",
       "      <td>...</td>\n",
       "      <td>...</td>\n",
       "      <td>...</td>\n",
       "    </tr>\n",
       "    <tr>\n",
       "      <th>6815</th>\n",
       "      <td>49</td>\n",
       "      <td>576</td>\n",
       "      <td>13</td>\n",
       "      <td>Biz Markie</td>\n",
       "      <td>Chloe</td>\n",
       "      <td>Cuevas</td>\n",
       "      <td>This Is Something for the Radio</td>\n",
       "    </tr>\n",
       "    <tr>\n",
       "      <th>6816</th>\n",
       "      <td>49</td>\n",
       "      <td>576</td>\n",
       "      <td>14</td>\n",
       "      <td>Animal Collective</td>\n",
       "      <td>Chloe</td>\n",
       "      <td>Cuevas</td>\n",
       "      <td>Brother Sport</td>\n",
       "    </tr>\n",
       "    <tr>\n",
       "      <th>6817</th>\n",
       "      <td>49</td>\n",
       "      <td>576</td>\n",
       "      <td>15</td>\n",
       "      <td>Linkin Park</td>\n",
       "      <td>Chloe</td>\n",
       "      <td>Cuevas</td>\n",
       "      <td>Given Up (Album Version)</td>\n",
       "    </tr>\n",
       "    <tr>\n",
       "      <th>6818</th>\n",
       "      <td>88</td>\n",
       "      <td>441</td>\n",
       "      <td>1</td>\n",
       "      <td>BeyoncÃÂ©</td>\n",
       "      <td>Mohammad</td>\n",
       "      <td>Rodriguez</td>\n",
       "      <td>Get Me Bodied</td>\n",
       "    </tr>\n",
       "    <tr>\n",
       "      <th>6819</th>\n",
       "      <td>88</td>\n",
       "      <td>441</td>\n",
       "      <td>2</td>\n",
       "      <td>Nate Dogg</td>\n",
       "      <td>Mohammad</td>\n",
       "      <td>Rodriguez</td>\n",
       "      <td>Never Leave Me Alone</td>\n",
       "    </tr>\n",
       "  </tbody>\n",
       "</table>\n",
       "<p>6820 rows × 7 columns</p>\n",
       "</div>"
      ],
      "text/plain": [
       "      user_id  session_number  item_in_session            artist_name  \\\n",
       "0          58             768                0       System of a Down   \n",
       "1          58             768                1  Ghostland Observatory   \n",
       "2          58             768                2      Evergreen Terrace   \n",
       "3          85             776                2               Deftones   \n",
       "4          85             776                3   The Notorious B.I.G.   \n",
       "...       ...             ...              ...                    ...   \n",
       "6815       49             576               13             Biz Markie   \n",
       "6816       49             576               14      Animal Collective   \n",
       "6817       49             576               15            Linkin Park   \n",
       "6818       88             441                1             BeyoncÃÂ©   \n",
       "6819       88             441                2              Nate Dogg   \n",
       "\n",
       "         fname      lname                       song_title  \n",
       "0        Emily     Benson                       Sad Statue  \n",
       "1        Emily     Benson                   Stranger Lover  \n",
       "2        Emily     Benson                             Zero  \n",
       "3      Kinsley      Young             Head Up (LP Version)  \n",
       "4      Kinsley      Young    Playa Hater (Amended Version)  \n",
       "...        ...        ...                              ...  \n",
       "6815     Chloe     Cuevas  This Is Something for the Radio  \n",
       "6816     Chloe     Cuevas                    Brother Sport  \n",
       "6817     Chloe     Cuevas         Given Up (Album Version)  \n",
       "6818  Mohammad  Rodriguez                    Get Me Bodied  \n",
       "6819  Mohammad  Rodriguez             Never Leave Me Alone  \n",
       "\n",
       "[6820 rows x 7 columns]"
      ]
     },
     "execution_count": 9,
     "metadata": {},
     "output_type": "execute_result"
    }
   ],
   "source": [
    "# We have provided part of the code to set up the CSV file. Please complete the Apache Cassandra code below#\n",
    "   \n",
    "file_name = 'event_data.csv'\n",
    "\n",
    "try:\n",
    "    with open(file_name, encoding='utf8') as f:\n",
    "        csv_reader = csv.reader(f)\n",
    "        next(csv_reader)  # Skip the header in the CSV file\n",
    "        for row_2 in csv_reader:\n",
    "            ## Task: Write the INSERT statements and assign it to the query variable\n",
    "            query2 = \"INSERT INTO user_info_by_session (user_id, session_number, item_in_session, artist_name, song_title, fname, lname)\"\n",
    "            query2 = query2 + \" VALUES (%s, %s, %s, %s, %s, %s, %s)\"\n",
    "\n",
    "            \n",
    "            # Task: Match the column in the csv file to the column in the INSERT statement.\n",
    "            ## e.g., if you want to INSERT gender from csv file into the database you will use row[2]\n",
    "            ## e.g., if you want to INSERT location from csv file into database you will use row[7]\n",
    "            session.execute(query2, (int(row_2[10]), int(row_2[8]), int(row_2[3]), row_2[0], row_2[9], row_2[1], row_2[4]))\n",
    "\n",
    "            \n",
    "    \n",
    "    print(f\"Data insertion in {table_2} table completed successfully.\", '\\n')\n",
    "\n",
    "except Exception as e:\n",
    "    print(\"An error occurred:\", e)\n",
    "\n",
    "# Print the output of the query\n",
    "print(f\"Table {table_2} after inserting the data\")\n",
    "rows_2 = session.execute(\"SELECT * FROM user_info_by_session\")\n",
    "rows_2_dataframe = pd.DataFrame(rows_2)\n",
    "rows_2_dataframe"
   ]
  },
  {
   "cell_type": "markdown",
   "metadata": {},
   "source": [
    "### Validate our Data Model using a SELECT"
   ]
  },
  {
   "cell_type": "code",
   "execution_count": 10,
   "metadata": {
    "scrolled": true,
    "tags": []
   },
   "outputs": [
    {
     "name": "stdout",
     "output_type": "stream",
     "text": [
      "From table  : user_info_by_session\n"
     ]
    },
    {
     "data": {
      "text/html": [
       "<div>\n",
       "<style scoped>\n",
       "    .dataframe tbody tr th:only-of-type {\n",
       "        vertical-align: middle;\n",
       "    }\n",
       "\n",
       "    .dataframe tbody tr th {\n",
       "        vertical-align: top;\n",
       "    }\n",
       "\n",
       "    .dataframe thead th {\n",
       "        text-align: right;\n",
       "    }\n",
       "</style>\n",
       "<table border=\"1\" class=\"dataframe\">\n",
       "  <thead>\n",
       "    <tr style=\"text-align: right;\">\n",
       "      <th></th>\n",
       "      <th>artist_name</th>\n",
       "      <th>song_title</th>\n",
       "      <th>fname</th>\n",
       "      <th>lname</th>\n",
       "    </tr>\n",
       "  </thead>\n",
       "  <tbody>\n",
       "    <tr>\n",
       "      <th>0</th>\n",
       "      <td>Down To The Bone</td>\n",
       "      <td>Keep On Keepin' On</td>\n",
       "      <td>Sylvie</td>\n",
       "      <td>Cruz</td>\n",
       "    </tr>\n",
       "    <tr>\n",
       "      <th>1</th>\n",
       "      <td>Three Drives</td>\n",
       "      <td>Greece 2000</td>\n",
       "      <td>Sylvie</td>\n",
       "      <td>Cruz</td>\n",
       "    </tr>\n",
       "    <tr>\n",
       "      <th>2</th>\n",
       "      <td>Sebastien Tellier</td>\n",
       "      <td>Kilometer</td>\n",
       "      <td>Sylvie</td>\n",
       "      <td>Cruz</td>\n",
       "    </tr>\n",
       "    <tr>\n",
       "      <th>3</th>\n",
       "      <td>Lonnie Gordon</td>\n",
       "      <td>Catch You Baby (Steve Pitron &amp; Max Sanna Radio...</td>\n",
       "      <td>Sylvie</td>\n",
       "      <td>Cruz</td>\n",
       "    </tr>\n",
       "  </tbody>\n",
       "</table>\n",
       "</div>"
      ],
      "text/plain": [
       "         artist_name                                         song_title  \\\n",
       "0   Down To The Bone                                 Keep On Keepin' On   \n",
       "1       Three Drives                                        Greece 2000   \n",
       "2  Sebastien Tellier                                          Kilometer   \n",
       "3      Lonnie Gordon  Catch You Baby (Steve Pitron & Max Sanna Radio...   \n",
       "\n",
       "    fname lname  \n",
       "0  Sylvie  Cruz  \n",
       "1  Sylvie  Cruz  \n",
       "2  Sylvie  Cruz  \n",
       "3  Sylvie  Cruz  "
      ]
     },
     "execution_count": 10,
     "metadata": {},
     "output_type": "execute_result"
    }
   ],
   "source": [
    "## Task: Make use of the SELECT statement and for loop to check if your query works and display the results\n",
    "\n",
    "validate_query_2 = \"SELECT artist_name, song_title, fname, lname FROM user_info_by_session WHERE user_id = 10 AND session_number = 182\"\n",
    "try:\n",
    "    validate_row_2 = session.execute(validate_query_2)\n",
    "except Exception as e:\n",
    "    print(e)\n",
    "print(f\"From table  : {table_2}\")\n",
    "\n",
    "validate_row_2_dataframe = pd.DataFrame(validate_row_2)\n",
    "validate_row_2_dataframe"
   ]
  },
  {
   "cell_type": "markdown",
   "metadata": {},
   "source": [
    "# "
   ]
  },
  {
   "cell_type": "markdown",
   "metadata": {},
   "source": [
    "# "
   ]
  },
  {
   "cell_type": "markdown",
   "metadata": {},
   "source": [
    "### Query3 Table3: How should we model this data? Think about what should be our Primary Key/Partition Key/Clustering Key"
   ]
  },
  {
   "cell_type": "code",
   "execution_count": 11,
   "metadata": {
    "tags": []
   },
   "outputs": [
    {
     "name": "stdout",
     "output_type": "stream",
     "text": [
      "Table 'user_info_by_song' created successfully.\n",
      "\n",
      "Schema of 'user_info_by_song' table: \n",
      "\n"
     ]
    },
    {
     "data": {
      "text/html": [
       "<div>\n",
       "<style scoped>\n",
       "    .dataframe tbody tr th:only-of-type {\n",
       "        vertical-align: middle;\n",
       "    }\n",
       "\n",
       "    .dataframe tbody tr th {\n",
       "        vertical-align: top;\n",
       "    }\n",
       "\n",
       "    .dataframe thead th {\n",
       "        text-align: right;\n",
       "    }\n",
       "</style>\n",
       "<table border=\"1\" class=\"dataframe\">\n",
       "  <thead>\n",
       "    <tr style=\"text-align: right;\">\n",
       "      <th></th>\n",
       "      <th>keyspace_name</th>\n",
       "      <th>table_name</th>\n",
       "      <th>column_name</th>\n",
       "      <th>clustering_order</th>\n",
       "      <th>column_name_bytes</th>\n",
       "      <th>kind</th>\n",
       "      <th>position</th>\n",
       "      <th>type</th>\n",
       "    </tr>\n",
       "  </thead>\n",
       "  <tbody>\n",
       "    <tr>\n",
       "      <th>0</th>\n",
       "      <td>soundcloud</td>\n",
       "      <td>user_info_by_song</td>\n",
       "      <td>fname</td>\n",
       "      <td>none</td>\n",
       "      <td>b'fname'</td>\n",
       "      <td>regular</td>\n",
       "      <td>-1</td>\n",
       "      <td>text</td>\n",
       "    </tr>\n",
       "    <tr>\n",
       "      <th>1</th>\n",
       "      <td>soundcloud</td>\n",
       "      <td>user_info_by_song</td>\n",
       "      <td>lname</td>\n",
       "      <td>none</td>\n",
       "      <td>b'lname'</td>\n",
       "      <td>regular</td>\n",
       "      <td>-1</td>\n",
       "      <td>text</td>\n",
       "    </tr>\n",
       "    <tr>\n",
       "      <th>2</th>\n",
       "      <td>soundcloud</td>\n",
       "      <td>user_info_by_song</td>\n",
       "      <td>song_title</td>\n",
       "      <td>none</td>\n",
       "      <td>b'song_title'</td>\n",
       "      <td>partition_key</td>\n",
       "      <td>0</td>\n",
       "      <td>text</td>\n",
       "    </tr>\n",
       "    <tr>\n",
       "      <th>3</th>\n",
       "      <td>soundcloud</td>\n",
       "      <td>user_info_by_song</td>\n",
       "      <td>user_id</td>\n",
       "      <td>asc</td>\n",
       "      <td>b'user_id'</td>\n",
       "      <td>clustering</td>\n",
       "      <td>0</td>\n",
       "      <td>int</td>\n",
       "    </tr>\n",
       "  </tbody>\n",
       "</table>\n",
       "</div>"
      ],
      "text/plain": [
       "  keyspace_name         table_name column_name clustering_order  \\\n",
       "0    soundcloud  user_info_by_song       fname             none   \n",
       "1    soundcloud  user_info_by_song       lname             none   \n",
       "2    soundcloud  user_info_by_song  song_title             none   \n",
       "3    soundcloud  user_info_by_song     user_id              asc   \n",
       "\n",
       "  column_name_bytes           kind  position  type  \n",
       "0          b'fname'        regular        -1  text  \n",
       "1          b'lname'        regular        -1  text  \n",
       "2     b'song_title'  partition_key         0  text  \n",
       "3        b'user_id'     clustering         0   int  "
      ]
     },
     "execution_count": 11,
     "metadata": {},
     "output_type": "execute_result"
    }
   ],
   "source": [
    "## Task: Query 3: Find every name(first and lastname) of the user from the SoundCloud app history that listened \n",
    "## to the song_title 'All Hands Against His Own'\n",
    "## make use of create table command     \n",
    "\n",
    "\n",
    "table_3 = 'user_info_by_song'\n",
    "try:\n",
    "    # Create the query\n",
    "    query_3 = (f\"\"\"CREATE TABLE IF NOT EXISTS {table_3} (\n",
    "        song_title text, \n",
    "        user_id int, \n",
    "        fname text, \n",
    "        lname text,\n",
    "        PRIMARY KEY (song_title, user_id))\"\"\")\n",
    "    \n",
    "    # Execute the query\n",
    "    session.execute(query_3)\n",
    "\n",
    "    # If the query runs successfully, print the status\n",
    "    print(\"Table 'user_info_by_song' created successfully.\")\n",
    "    print(\"\\nSchema of 'user_info_by_song' table:\", '\\n')\n",
    "    #print(\"-\"*146)\n",
    "    result_3 = session.execute(\"SELECT * FROM system_schema.columns WHERE keyspace_name = 'soundcloud' AND table_name = 'user_info_by_song'\")\n",
    "    \n",
    "    user_info_by_song_df = pd.DataFrame(result_3)\n",
    "    #print(song_info_by_session_df.to_markdown())\n",
    "    #print(\"-\"*146)\n",
    "        \n",
    "except Exception as e:\n",
    "    print(\"An error occurred:\", e)\n",
    "    \n",
    "user_info_by_song_df\n"
   ]
  },
  {
   "cell_type": "markdown",
   "metadata": {},
   "source": [
    "### Let's insert our data into of table"
   ]
  },
  {
   "cell_type": "code",
   "execution_count": 12,
   "metadata": {
    "tags": []
   },
   "outputs": [
    {
     "name": "stdout",
     "output_type": "stream",
     "text": [
      "Data insertion in user_info_by_song table completed successfully. \n",
      "\n",
      "Table user_info_by_song after inserting the data\n"
     ]
    },
    {
     "data": {
      "text/html": [
       "<div>\n",
       "<style scoped>\n",
       "    .dataframe tbody tr th:only-of-type {\n",
       "        vertical-align: middle;\n",
       "    }\n",
       "\n",
       "    .dataframe tbody tr th {\n",
       "        vertical-align: top;\n",
       "    }\n",
       "\n",
       "    .dataframe thead th {\n",
       "        text-align: right;\n",
       "    }\n",
       "</style>\n",
       "<table border=\"1\" class=\"dataframe\">\n",
       "  <thead>\n",
       "    <tr style=\"text-align: right;\">\n",
       "      <th></th>\n",
       "      <th>song_title</th>\n",
       "      <th>user_id</th>\n",
       "      <th>fname</th>\n",
       "      <th>lname</th>\n",
       "    </tr>\n",
       "  </thead>\n",
       "  <tbody>\n",
       "    <tr>\n",
       "      <th>0</th>\n",
       "      <td>Wonder What's Next</td>\n",
       "      <td>49</td>\n",
       "      <td>Chloe</td>\n",
       "      <td>Cuevas</td>\n",
       "    </tr>\n",
       "    <tr>\n",
       "      <th>1</th>\n",
       "      <td>In The Dragon's Den</td>\n",
       "      <td>49</td>\n",
       "      <td>Chloe</td>\n",
       "      <td>Cuevas</td>\n",
       "    </tr>\n",
       "    <tr>\n",
       "      <th>2</th>\n",
       "      <td>Too Tough (1994 Digital Remaster)</td>\n",
       "      <td>44</td>\n",
       "      <td>Aleena</td>\n",
       "      <td>Kirby</td>\n",
       "    </tr>\n",
       "    <tr>\n",
       "      <th>3</th>\n",
       "      <td>Rio De Janeiro Blue (Album Version)</td>\n",
       "      <td>49</td>\n",
       "      <td>Chloe</td>\n",
       "      <td>Cuevas</td>\n",
       "    </tr>\n",
       "    <tr>\n",
       "      <th>4</th>\n",
       "      <td>My Place</td>\n",
       "      <td>15</td>\n",
       "      <td>Lily</td>\n",
       "      <td>Koch</td>\n",
       "    </tr>\n",
       "    <tr>\n",
       "      <th>...</th>\n",
       "      <td>...</td>\n",
       "      <td>...</td>\n",
       "      <td>...</td>\n",
       "      <td>...</td>\n",
       "    </tr>\n",
       "    <tr>\n",
       "      <th>6613</th>\n",
       "      <td>Heartbreaker</td>\n",
       "      <td>95</td>\n",
       "      <td>Sara</td>\n",
       "      <td>Johnson</td>\n",
       "    </tr>\n",
       "    <tr>\n",
       "      <th>6614</th>\n",
       "      <td>Heartbreaker</td>\n",
       "      <td>97</td>\n",
       "      <td>Kate</td>\n",
       "      <td>Harrell</td>\n",
       "    </tr>\n",
       "    <tr>\n",
       "      <th>6615</th>\n",
       "      <td>Leave The City And Come Home</td>\n",
       "      <td>49</td>\n",
       "      <td>Chloe</td>\n",
       "      <td>Cuevas</td>\n",
       "    </tr>\n",
       "    <tr>\n",
       "      <th>6616</th>\n",
       "      <td>Tale Of Two Cities</td>\n",
       "      <td>30</td>\n",
       "      <td>Avery</td>\n",
       "      <td>Watkins</td>\n",
       "    </tr>\n",
       "    <tr>\n",
       "      <th>6617</th>\n",
       "      <td>Ball &amp; Chain</td>\n",
       "      <td>29</td>\n",
       "      <td>Jacqueline</td>\n",
       "      <td>Lynch</td>\n",
       "    </tr>\n",
       "  </tbody>\n",
       "</table>\n",
       "<p>6618 rows × 4 columns</p>\n",
       "</div>"
      ],
      "text/plain": [
       "                               song_title  user_id       fname    lname\n",
       "0                      Wonder What's Next       49       Chloe   Cuevas\n",
       "1                     In The Dragon's Den       49       Chloe   Cuevas\n",
       "2       Too Tough (1994 Digital Remaster)       44      Aleena    Kirby\n",
       "3     Rio De Janeiro Blue (Album Version)       49       Chloe   Cuevas\n",
       "4                                My Place       15        Lily     Koch\n",
       "...                                   ...      ...         ...      ...\n",
       "6613                         Heartbreaker       95        Sara  Johnson\n",
       "6614                         Heartbreaker       97        Kate  Harrell\n",
       "6615         Leave The City And Come Home       49       Chloe   Cuevas\n",
       "6616                   Tale Of Two Cities       30       Avery  Watkins\n",
       "6617                         Ball & Chain       29  Jacqueline    Lynch\n",
       "\n",
       "[6618 rows x 4 columns]"
      ]
     },
     "execution_count": 12,
     "metadata": {},
     "output_type": "execute_result"
    }
   ],
   "source": [
    "# We have provided part of the code to set up the CSV file. Please complete the Apache Cassandra code below#\n",
    "    \n",
    "file_name = 'event_data.csv'\n",
    "\n",
    "try:\n",
    "    with open(file_name, encoding='utf8') as f:\n",
    "        csv_reader = csv.reader(f)\n",
    "        next(csv_reader)  # Skip the header in the CSV file\n",
    "        for row_3 in csv_reader:\n",
    "            ## Task: Write the INSERT statements and assign it to the query variable\n",
    "            query3 = \"INSERT INTO user_info_by_song (song_title, user_id, fname, lname)\"\n",
    "            query3 = query3 + \" VALUES (%s, %s, %s, %s)\"\n",
    "\n",
    "            \n",
    "            # Task: Match the column in the csv file to the column in the INSERT statement.\n",
    "            ## e.g., if you want to INSERT gender from csv file into the database you will use row[2]\n",
    "            ## e.g., if you want to INSERT location from csv file into database you will use row[7]\n",
    "            session.execute(query3, (row_3[9], int(row_3[10]), row_3[1], row_3[4]))\n",
    "\n",
    "            \n",
    "    \n",
    "    print(f\"Data insertion in {table_3} table completed successfully.\", '\\n')\n",
    "\n",
    "except Exception as e:\n",
    "    print(\"An error occurred:\", e)\n",
    "\n",
    "# Print the output of the query\n",
    "print(f\"Table {table_3} after inserting the data\")\n",
    "rows_3 = session.execute(\"SELECT * FROM user_info_by_song\")\n",
    "rows_3_dataframe = pd.DataFrame(rows_3)\n",
    "rows_3_dataframe"
   ]
  },
  {
   "cell_type": "markdown",
   "metadata": {},
   "source": [
    "### Validate our Data Model using a SELECT"
   ]
  },
  {
   "cell_type": "code",
   "execution_count": 13,
   "metadata": {
    "scrolled": true,
    "tags": []
   },
   "outputs": [
    {
     "name": "stdout",
     "output_type": "stream",
     "text": [
      "From table  : user_info_by_song\n"
     ]
    },
    {
     "data": {
      "text/html": [
       "<div>\n",
       "<style scoped>\n",
       "    .dataframe tbody tr th:only-of-type {\n",
       "        vertical-align: middle;\n",
       "    }\n",
       "\n",
       "    .dataframe tbody tr th {\n",
       "        vertical-align: top;\n",
       "    }\n",
       "\n",
       "    .dataframe thead th {\n",
       "        text-align: right;\n",
       "    }\n",
       "</style>\n",
       "<table border=\"1\" class=\"dataframe\">\n",
       "  <thead>\n",
       "    <tr style=\"text-align: right;\">\n",
       "      <th></th>\n",
       "      <th>fname</th>\n",
       "      <th>lname</th>\n",
       "    </tr>\n",
       "  </thead>\n",
       "  <tbody>\n",
       "    <tr>\n",
       "      <th>0</th>\n",
       "      <td>Jacqueline</td>\n",
       "      <td>Lynch</td>\n",
       "    </tr>\n",
       "    <tr>\n",
       "      <th>1</th>\n",
       "      <td>Tegan</td>\n",
       "      <td>Levine</td>\n",
       "    </tr>\n",
       "    <tr>\n",
       "      <th>2</th>\n",
       "      <td>Sara</td>\n",
       "      <td>Johnson</td>\n",
       "    </tr>\n",
       "  </tbody>\n",
       "</table>\n",
       "</div>"
      ],
      "text/plain": [
       "        fname    lname\n",
       "0  Jacqueline    Lynch\n",
       "1       Tegan   Levine\n",
       "2        Sara  Johnson"
      ]
     },
     "execution_count": 13,
     "metadata": {},
     "output_type": "execute_result"
    }
   ],
   "source": [
    "## Task: Make use of the SELECT statement and for loop to check if your query works and display the results\n",
    "\n",
    "validate_query_3 = \"SELECT fname, lname FROM user_info_by_song WHERE song_title = 'All Hands Against His Own'\"\n",
    "\n",
    "try:\n",
    "    validate_row_3 = session.execute(validate_query_3)\n",
    "    \n",
    "except Exception as e:\n",
    "    print(e)\n",
    "print(f\"From table  : {table_3}\")\n",
    "\n",
    "validate_row_3_dataframe = pd.DataFrame(validate_row_3)\n",
    "validate_row_3_dataframe"
   ]
  },
  {
   "cell_type": "markdown",
   "metadata": {},
   "source": [
    "### Drop the tables before closing out the sessions"
   ]
  },
  {
   "cell_type": "code",
   "execution_count": 14,
   "metadata": {
    "tags": []
   },
   "outputs": [
    {
     "name": "stdout",
     "output_type": "stream",
     "text": [
      "Table 1 dropped successfully.\n",
      "Table 2 dropped successfully.\n",
      "Table 3 dropped successfully.\n"
     ]
    }
   ],
   "source": [
    "drop_statements = [\n",
    "    \"DROP TABLE IF EXISTS song_info_by_session\",\n",
    "    \"DROP TABLE IF EXISTS user_info_by_session\",\n",
    "    \"DROP TABLE IF EXISTS user_info_by_song\"\n",
    "]\n",
    "try:\n",
    "    for index, statement in enumerate(drop_statements, start=1):\n",
    "        session.execute(statement)\n",
    "        print(f\"Table {index} dropped successfully.\")\n",
    "\n",
    "except Exception as e:\n",
    "    print(\"An error occurred:\", e)"
   ]
  },
  {
   "cell_type": "markdown",
   "metadata": {},
   "source": [
    "### Close the session and cluster connection¶"
   ]
  },
  {
   "cell_type": "code",
   "execution_count": 15,
   "metadata": {
    "tags": []
   },
   "outputs": [
    {
     "name": "stdout",
     "output_type": "stream",
     "text": [
      "Session and cluster shutdown successfully.\n"
     ]
    }
   ],
   "source": [
    "try:\n",
    "    session.shutdown()\n",
    "    cluster.shutdown()\n",
    "\n",
    "    print(\"Session and cluster shutdown successfully.\")\n",
    "\n",
    "except Exception as e:\n",
    "    print(\"An error occurred:\", e)"
   ]
  }
 ],
 "metadata": {
  "kernelspec": {
   "display_name": "Python 3 (ipykernel)",
   "language": "python",
   "name": "python3"
  },
  "language_info": {
   "codemirror_mode": {
    "name": "ipython",
    "version": 3
   },
   "file_extension": ".py",
   "mimetype": "text/x-python",
   "name": "python",
   "nbconvert_exporter": "python",
   "pygments_lexer": "ipython3",
   "version": "3.11.5"
  }
 },
 "nbformat": 4,
 "nbformat_minor": 4
}
